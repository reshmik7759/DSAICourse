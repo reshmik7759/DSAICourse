{
 "cells": [
  {
   "cell_type": "markdown",
   "metadata": {},
   "source": [
    "# Python Assignment No:3"
   ]
  },
  {
   "cell_type": "code",
   "execution_count": 2,
   "metadata": {},
   "outputs": [
    {
     "name": "stdout",
     "output_type": "stream",
     "text": [
      "Addition : 32\n",
      "Substraction : 8\n"
     ]
    }
   ],
   "source": [
    "\"\"\"\n",
    "Q1: Write a function calculation() such that it can accept two\n",
    "variables as arguments and calculate the addition and\n",
    "subtraction of it. And also it must return both addition and\n",
    "subtraction in a single return call\n",
    "\"\"\"\n",
    "\n",
    "def calc(n1,n2):\n",
    "    addition=n1+n2\n",
    "    substraction=n1-n2\n",
    "    return addition,substraction\n",
    "\n",
    "addition,substraction=calc(20,12)\n",
    "print(\"Addition :\",addition)\n",
    "print(\"Substraction :\",substraction)"
   ]
  },
  {
   "cell_type": "code",
   "execution_count": 5,
   "metadata": {},
   "outputs": [
    {
     "name": "stdout",
     "output_type": "stream",
     "text": [
      "Employee Details\n",
      "Name   :  Ajeesh A V\n",
      "Salary :  9000\n"
     ]
    }
   ],
   "source": [
    "\"\"\"\n",
    "Q2 : Create a function showEmployee() in such a way that it\n",
    "should accept employee name, and it’s salary and display both,\n",
    "and if the salary is missing in function call it should show it as\n",
    "9000\n",
    "\n",
    "\"\"\"\n",
    "\n",
    "def showEmployee(name,salary=9000):\n",
    "    print(\"Name   : \",name)\n",
    "    print(\"Salary : \",salary)\n",
    "print(\"Employee Details\")    \n",
    "emp=showEmployee(\"Ajeesh A V\")\n",
    "emp"
   ]
  },
  {
   "cell_type": "code",
   "execution_count": 7,
   "metadata": {},
   "outputs": [
    {
     "name": "stdout",
     "output_type": "stream",
     "text": [
      "The letter count of word 'awesome'\n"
     ]
    },
    {
     "data": {
      "text/plain": [
       "{'a': 1, 'w': 1, 'e': 2, 's': 1, 'o': 1, 'm': 1}"
      ]
     },
     "execution_count": 7,
     "metadata": {},
     "output_type": "execute_result"
    }
   ],
   "source": [
    "\"\"\"\n",
    "Q3 : Write a function called multipleLetterCount. This function\n",
    "takes in one parameter (a string) and returns a dictionary with the\n",
    "keys being the letters and the value being the count of the letter.\n",
    "# Example output:\n",
    "# multipleLetterCount('awesome')\n",
    "# {'a': 1, 'e': 2, 'm': 1, 'o': 1, 's': 1, 'w': 1}\n",
    "\n",
    "\"\"\"\n",
    "\n",
    "def multipleLetterCount(word):\n",
    "    dict1={}\n",
    "    for i in word:\n",
    "        count=0\n",
    "        for j in word: \n",
    "            if j == i: \n",
    "                count = count + 1\n",
    "        dict1[i]=count\n",
    "    return dict1\n",
    "\n",
    "print(\"The letter count of word 'awesome'\")\n",
    "a=multipleLetterCount('awesome')\n",
    "a"
   ]
  },
  {
   "cell_type": "markdown",
   "metadata": {},
   "source": [
    "# End"
   ]
  },
  {
   "cell_type": "code",
   "execution_count": null,
   "metadata": {},
   "outputs": [],
   "source": []
  }
 ],
 "metadata": {
  "kernelspec": {
   "display_name": "Python 3",
   "language": "python",
   "name": "python3"
  },
  "language_info": {
   "codemirror_mode": {
    "name": "ipython",
    "version": 3
   },
   "file_extension": ".py",
   "mimetype": "text/x-python",
   "name": "python",
   "nbconvert_exporter": "python",
   "pygments_lexer": "ipython3",
   "version": "3.8.3"
  }
 },
 "nbformat": 4,
 "nbformat_minor": 4
}
