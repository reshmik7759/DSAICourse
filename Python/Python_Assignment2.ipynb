{
 "cells": [
  {
   "cell_type": "markdown",
   "metadata": {},
   "source": [
    "# Assignment No:2"
   ]
  },
  {
   "cell_type": "code",
   "execution_count": 2,
   "metadata": {},
   "outputs": [
    {
     "name": "stdout",
     "output_type": "stream",
     "text": [
      "The modified tuple is: (11, [222, 33], 44, 55)\n"
     ]
    }
   ],
   "source": [
    "\"\"\"Q 1: Modify the first item (22) of a list inside a following tuple to\n",
    "222\"\"\"\n",
    "tuple1 = (11, [22, 33], 44, 55)\n",
    "tuple1[1][0] = 222\n",
    "print(\"The modified tuple is:\",tuple1)\n"
   ]
  },
  {
   "cell_type": "code",
   "execution_count": 3,
   "metadata": {},
   "outputs": [
    {
     "name": "stdout",
     "output_type": "stream",
     "text": [
      "The number of oocurance of number 50 is: 2\n"
     ]
    }
   ],
   "source": [
    "\"\"\"Q 2: Count the number of occurrences of item 50 from a tuple\n",
    "\"\"\"\n",
    "tuple1 = (50, 10, 60, 70, 50)\n",
    "# function to count the items in a tuple\n",
    "def countN(tup, x): \n",
    "    count = 0\n",
    "    for ele in tup: \n",
    "        if (ele == x): \n",
    "            count = count + 1\n",
    "    return count \n",
    "print(\"The number of oocurance of number 50 is:\",countN(tuple1,50))\n"
   ]
  },
  {
   "cell_type": "code",
   "execution_count": 5,
   "metadata": {},
   "outputs": [
    {
     "name": "stdout",
     "output_type": "stream",
     "text": [
      "The list [5, 10, 7, 4, 15, 3, 23] is converted into tuple (5, 10, 7, 4, 15, 3, 23)\n"
     ]
    }
   ],
   "source": [
    "\"\"\" Q3:Write a Python program to convert a list to a tuple\"\"\"\n",
    "list1 = [5, 10, 7, 4, 15, 3,23]\n",
    "\n",
    "#using the tuple() \n",
    "tuple1 = tuple(list1)\n",
    "print(\"The list\",list1,\"is converted into tuple\",tuple1)"
   ]
  },
  {
   "cell_type": "code",
   "execution_count": 7,
   "metadata": {},
   "outputs": [
    {
     "name": "stdout",
     "output_type": "stream",
     "text": [
      "{40, 10, 50, 20, 30}  U  {70, 40, 50, 60, 30}\n",
      "Union:using user-defined function =  {70, 40, 10, 50, 20, 60, 30}\n",
      "Union:using  union() =  {70, 40, 10, 50, 20, 60, 30}\n"
     ]
    }
   ],
   "source": [
    "\"\"\"Q 4: Returns a new set with all items from both sets by removing\n",
    "duplicates\n",
    "set1 = {10, 20, 30, 40, 50}\n",
    "set2 = {30, 40, 50, 60, 70}\n",
    "\n",
    "\"\"\"\n",
    "#union by user defined function\n",
    "\n",
    "def union_fun(s1,s2):\n",
    "    u=[]\n",
    "    for i in s1:\n",
    "        u.append(i)\n",
    "    for i in s2:\n",
    "        u.append(i)\n",
    "    return set(u)\n",
    "\n",
    "set1 = {10, 20, 30, 40, 50}\n",
    "set2 = {30, 40, 50, 60, 70}\n",
    "\n",
    "\n",
    "set3=union_fun(set1,set2)\n",
    "print(set1,\" U \",set2)\n",
    "print(\"Union:using user-defined function = \",set3)\n",
    "#using build-in union()\n",
    "print(\"Union:using  union() = \",set1.union(set2))\n"
   ]
  },
  {
   "cell_type": "code",
   "execution_count": 11,
   "metadata": {},
   "outputs": [
    {
     "name": "stdout",
     "output_type": "stream",
     "text": [
      "The dectionary  {'Ten': 10, 'Twenty': 20, 'Thirty': 30, 'Fourty': 40, 'Fifty': 50}  is merged with  {'Thirty': 30, 'Fourty': 40, 'Fifty': 50}\n",
      "The merged list is  {'Ten': 10, 'Twenty': 20, 'Thirty': 30, 'Fourty': 40, 'Fifty': 50}\n"
     ]
    }
   ],
   "source": [
    "\"\"\"\n",
    "Q5: Merge following two Python dictionaries into one\n",
    "\n",
    "dict1 = {'Ten': 10, 'Twenty': 20, 'Thirty': 30}\n",
    "dict2 = {'Thirty': 30, 'Fourty': 40, 'Fifty': 50}\n",
    "\"\"\"\n",
    "#funtion to merge two dictionaries\n",
    "def merged(dict1,dict2):\n",
    "    for key,value in dict2.items():\n",
    "        dict1[key]=value\n",
    "    return dict1\n",
    "\n",
    "dict1 = {'Ten': 10, 'Twenty': 20, 'Thirty': 30}\n",
    "dict2 = {'Thirty': 30, 'Fourty': 40, 'Fifty': 50}\n",
    "\n",
    "dict3=merged(dict1,dict2)\n",
    "print(\"The dectionary \",dict1, \" is merged with \",dict2)\n",
    "print(\"The merged list is \",dict3)"
   ]
  },
  {
   "cell_type": "code",
   "execution_count": 17,
   "metadata": {},
   "outputs": [
    {
     "name": "stdout",
     "output_type": "stream",
     "text": [
      "before update\n",
      "{'emp1': {'name': 'Jhon', 'salary': 7500}, 'emp2': {'name': 'Emma', 'salary': 8000}, 'emp3': {'name': 'Brad', 'salary': 6500}}\n",
      "after update\n"
     ]
    },
    {
     "data": {
      "text/plain": [
       "{'emp1': {'name': 'Jhon', 'salary': 7500},\n",
       " 'emp2': {'name': 'Emma', 'salary': 8000},\n",
       " 'emp3': {'name': 'Brad', 'salary': 8500}}"
      ]
     },
     "execution_count": 17,
     "metadata": {},
     "output_type": "execute_result"
    }
   ],
   "source": [
    "\"\"\"\n",
    "Q6: Given a Python dictionary, Change Brad’s salary to 8500\n",
    "\n",
    "sampleDict = {\n",
    "'emp1': {'name': 'Jhon', 'salary': 7500},\n",
    "'emp2': {'name': 'Emma', 'salary': 8000},\n",
    "'emp3': {'name': 'Brad', 'salary': 6500}\n",
    "}\n",
    "Expected output:\n",
    "sampleDict = {\n",
    "'emp1': {'name': 'Jhon', 'salary': 7500},\n",
    "'emp2': {'name': 'Emma', 'salary': 8000},\n",
    "'emp3': {'name': 'Brad', 'salary': 8500}\n",
    "}\n",
    "\"\"\"\n",
    "#########################################\n",
    "\n",
    "\n",
    "sampleDict = {\n",
    "'emp1': {'name': 'Jhon', 'salary': 7500},\n",
    "'emp2': {'name': 'Emma', 'salary': 8000},\n",
    "'emp3': {'name': 'Brad', 'salary': 6500}\n",
    "}\n",
    "print(\"before update\")\n",
    "print(sampleDict)\n",
    "sampleDict['emp3']['salary']=8500\n",
    "print(\"after update\")\n",
    "sampleDict"
   ]
  },
  {
   "cell_type": "code",
   "execution_count": 20,
   "metadata": {},
   "outputs": [
    {
     "name": "stdout",
     "output_type": "stream",
     "text": [
      "after renaming the city {'name': 'Kelly', 'age': 25, 'salary': 8000, 'location': 'New york'}\n"
     ]
    }
   ],
   "source": [
    "\"\"\"\n",
    "Q7: Rename key city to location in the following dictionary\n",
    "\n",
    "sampleDict = {\n",
    "\"name\": \"Kelly\",\n",
    "\"age\":25,\n",
    "\"salary\": 8000,\n",
    "\"city\": \"New york\"\n",
    "}\n",
    "\n",
    "Expected output:\n",
    "{\n",
    "\"name\": \"Kelly\",\n",
    "\"age\":25,\n",
    "\"salary\": 8000,\n",
    "\"location\": \"New york\"\n",
    "}\n",
    "\n",
    "\"\"\"\n",
    "\n",
    "def change_key(dict1,old_key,new_key):\n",
    "    try:\n",
    "        val=dict1[old_key]\n",
    "    except:\n",
    "        print(\"Given key is not found in the dictionary\")\n",
    "        return 0\n",
    "    dict1.pop(old_key)\n",
    "    dict1[new_key]=val\n",
    "    return dict1\n",
    "    \n",
    "    \n",
    "sampleDict = {\n",
    "\"name\": \"Kelly\",\n",
    "\"age\":25,\n",
    "\"salary\": 8000,\n",
    "\"city\": \"New york\"\n",
    "}\n",
    "\n",
    "new_dict=change_key(sampleDict,\"city\",\"location\")\n",
    "print(\"after renaming the city\",new_dict)"
   ]
  },
  {
   "cell_type": "markdown",
   "metadata": {},
   "source": [
    "# End"
   ]
  },
  {
   "cell_type": "code",
   "execution_count": null,
   "metadata": {},
   "outputs": [],
   "source": []
  }
 ],
 "metadata": {
  "kernelspec": {
   "display_name": "Python 3",
   "language": "python",
   "name": "python3"
  },
  "language_info": {
   "codemirror_mode": {
    "name": "ipython",
    "version": 3
   },
   "file_extension": ".py",
   "mimetype": "text/x-python",
   "name": "python",
   "nbconvert_exporter": "python",
   "pygments_lexer": "ipython3",
   "version": "3.8.3"
  }
 },
 "nbformat": 4,
 "nbformat_minor": 4
}
