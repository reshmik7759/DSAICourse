{
 "cells": [
  {
   "cell_type": "markdown",
   "metadata": {},
   "source": [
    "# Python Assignment 4"
   ]
  },
  {
   "cell_type": "code",
   "execution_count": 11,
   "metadata": {},
   "outputs": [
    {
     "name": "stdout",
     "output_type": "stream",
     "text": [
      "['This is line 1\\n', 'This is line 2\\n', 'This is line 3\\n', 'This is line 4\\n', 'This is line 5\\n']\n",
      "<class 'list'>\n"
     ]
    }
   ],
   "source": [
    "\"\"\"\n",
    "Q1 : create a txt file, enter multiple lines of text. read this file line by line and store\n",
    "it into a list. Apply exception handling technique\n",
    "\n",
    "\"\"\"\n",
    "\n",
    "###########################################################################################################\n",
    "\n",
    "\n",
    "\n",
    "f= open(\"sample.txt\",\"w+\")\n",
    "for i in range(5):\n",
    "    stri=\"This is line \"+str(i+1)+'\\n'\n",
    "    f.write(stri)\n",
    "f.close()\n",
    "try:\n",
    "    f1=open('sample.txt','r')\n",
    "    list1=f1.readlines()\n",
    "except Exception as err1:\n",
    "        print(\"Error : \",err1)\n",
    "print(list1)\n",
    "print(type(list1))"
   ]
  },
  {
   "cell_type": "code",
   "execution_count": 14,
   "metadata": {},
   "outputs": [
    {
     "name": "stdout",
     "output_type": "stream",
     "text": [
      "['Red \\n', 'Green \\n', 'White \\n', 'Black \\n', 'Pink \\n', 'Yellow \\n']\n"
     ]
    }
   ],
   "source": [
    "\"\"\"\n",
    "Q2: Write a Python program to write below list content to a file. Apply exception\n",
    "handling technique\n",
    "color = ['Red', 'Green', 'White', 'Black', 'Pink', 'Yellow']\n",
    "\n",
    "\"\"\"\n",
    "\n",
    "##############################################################################################################\n",
    "def write_to_file(filename,list1):\n",
    "    try:\n",
    "        f=open(filename,'w')\n",
    "        for item in list1:\n",
    "            str1=item+' \\n'\n",
    "            f.write(str1)\n",
    "        f.close()\n",
    "    except Exception as err1:\n",
    "        print(\"Error : \",err1)\n",
    "    \n",
    "\n",
    "color = ['Red', 'Green', 'White', 'Black', 'Pink', 'Yellow']\n",
    "\n",
    "a=write_to_file(\"samp.txt\",color)\n",
    "f2=open(\"samp.txt\")\n",
    "print(f2.readlines())"
   ]
  },
  {
   "cell_type": "code",
   "execution_count": 5,
   "metadata": {},
   "outputs": [
    {
     "name": "stdout",
     "output_type": "stream",
     "text": [
      "['This is line 1', 'This is line 2', 'This is line 3', 'This is line 4', 'This is line 5', 'This is line 6', 'This is line 7', 'This is line 8', 'This is line 9', 'This is line 10']\n"
     ]
    }
   ],
   "source": [
    " \"\"\"\n",
    "Q3 : create a txt file, enter multiple lines of text. remove newline characters from\n",
    "created file and print as a list. Apply exception handling techniques wherever\n",
    "possible\n",
    "\n",
    "\"\"\"\n",
    "\n",
    "f= open(\"samp.txt\",\"w+\")\n",
    "for i in range(10):\n",
    "    stri=\"This is line \"+str(i+1)+'\\n'\n",
    "    f.write(stri)\n",
    "f.close()\n",
    "try:\n",
    "    f1=open('samp.txt','r')\n",
    "    list1=[]\n",
    "    for i in f1.readlines():\n",
    "        #print(i)\n",
    "        list1.append(i.strip())\n",
    "except Exception as err1:\n",
    "        print(\"Error : \",err1)\n",
    "\n",
    "print(list1)"
   ]
  },
  {
   "cell_type": "code",
   "execution_count": 15,
   "metadata": {},
   "outputs": [],
   "source": [
    "\"\"\"\n",
    "Q4 : create a testfile1.txt file, enter multiple lines of text . Now copy contents of\n",
    "testfile1.txt to new file testfile22.txt. Apply exception handling techniques\n",
    "wherever possible\n",
    "\n",
    "\"\"\"\n",
    "try:\n",
    "    f= open(\"testfile1.txt\",\"w+\")\n",
    "    for i in range(5):\n",
    "        stri=\"This is line \"+str(i+1)+'\\n'\n",
    "        f.write(stri)\n",
    "    f.close()\n",
    "except Exception as err1:\n",
    "        print(\"Error : \",err1)\n",
    "\n",
    "try:\n",
    "    f1=open(\"testfile2.txt\",'w+')\n",
    "    f2=open(\"testfile1.txt\",'r+')\n",
    "\n",
    "    for j in f2.readlines():\n",
    "        #print(j)\n",
    "        f1.write(j)\n",
    "    f1.close()\n",
    "    f2.close()\n",
    "except Exception as err1:\n",
    "        print(\"Error : \",err1)"
   ]
  },
  {
   "cell_type": "markdown",
   "metadata": {},
   "source": [
    "# END"
   ]
  },
  {
   "cell_type": "code",
   "execution_count": null,
   "metadata": {},
   "outputs": [],
   "source": []
  }
 ],
 "metadata": {
  "kernelspec": {
   "display_name": "Python 3",
   "language": "python",
   "name": "python3"
  },
  "language_info": {
   "codemirror_mode": {
    "name": "ipython",
    "version": 3
   },
   "file_extension": ".py",
   "mimetype": "text/x-python",
   "name": "python",
   "nbconvert_exporter": "python",
   "pygments_lexer": "ipython3",
   "version": "3.8.3"
  }
 },
 "nbformat": 4,
 "nbformat_minor": 4
}
